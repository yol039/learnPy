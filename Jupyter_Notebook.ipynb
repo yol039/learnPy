{
 "cells": [
  {
   "cell_type": "markdown",
   "metadata": {},
   "source": [
    "<center>\n",
    "    <img src=\"https://cf-courses-data.s3.us.cloud-object-storage.appdomain.cloud/IBMDeveloperSkillsNetwork-DS0105EN-SkillsNetwork/labs/Module2/images/SN_web_lightmode.png\" width=\"300\" alt=\"cognitiveclass.ai logo\"  />\n",
    "</center>\n"
   ]
  },
  {
   "cell_type": "markdown",
   "metadata": {},
   "source": [
    "#### Add your code below following the instructions given in the course\n"
   ]
  },
  {
   "cell_type": "markdown",
   "metadata": {
    "tags": []
   },
   "source": [
    "# My Jupyter Notebook on IBM Watson Studio"
   ]
  },
  {
   "cell_type": "markdown",
   "metadata": {},
   "source": [
    "**Youran Li**<br>\n",
    "a graduate student "
   ]
  },
  {
   "cell_type": "markdown",
   "metadata": {},
   "source": [
    "*I am interested in data science because I want to be a financial data analyst, which requires proficiency in Python, R, and SQL.*"
   ]
  },
  {
   "cell_type": "markdown",
   "metadata": {},
   "source": [
    "### a simple arithmetric calculation"
   ]
  },
  {
   "cell_type": "code",
   "execution_count": 3,
   "metadata": {},
   "outputs": [
    {
     "name": "stdout",
     "output_type": "stream",
     "text": [
      "2\n"
     ]
    }
   ],
   "source": [
    "a = 1+ 1\n",
    "print(a)"
   ]
  },
  {
   "cell_type": "markdown",
   "metadata": {},
   "source": [
    "\n",
    "hyper link <br>\n",
    "[The Ultimate Markdown Guide (for Jupyter Notebook)](https://medium.com/analytics-vidhya/the-ultimate-markdown-guide-for-jupyter-notebook-d5e5abf728fd)\n",
    "\n",
    "image <br>\n",
    "![an ocean image](https://w7.pngwing.com/pngs/705/765/png-transparent-deep-ocean-ocean-blue-sea-surface-thumbnail.png)\n",
    "\n",
    "bullet list\n",
    "- Youran\n",
    "- Andrew\n",
    "- Wiki\n",
    "\n",
    "* First Item\n",
    "    * Nested item 1\n",
    "    * Nested item 2\n",
    "* Second Item\n",
    "    * Nested item 1\n",
    "    * Nested item 2\n",
    "    \n",
    "numbered list\n",
    "1. Youran\n",
    "2. Andrew \n",
    "3. Wiki\n",
    "\n",
    "Table \n",
    "\n",
    "| header | header |\n",
    "| ------ | ------ |\n",
    "| cell | cell |\n",
    "\n",
    "    \n",
    "Horizontal rule.\n",
    "___\n",
    "use three or more asterisks, dashes, or underscores\n",
    "***\n",
    "---\n",
    "\n",
    "\n",
    "Code and Syntax Highlighting\n",
    "```python\n",
    "def staySafe(Coronavirus)\n",
    "  if not home:\n",
    "    return home\n",
    "```\n",
    "\n",
    "Block Quote\n",
    "> This is a blockquote\n",
    "\n",
    "NESTED BLOCK QUOTING\n",
    "> some text\n",
    ">> some more text\n",
    ">>> some more\n",
    "\n",
    "STRIKETHROUGH <br>\n",
    "~~Scrath this~~"
   ]
  },
  {
   "cell_type": "code",
   "execution_count": null,
   "metadata": {},
   "outputs": [],
   "source": []
  }
 ],
 "metadata": {
  "kernelspec": {
   "display_name": "Python 3 (ipykernel)",
   "language": "python",
   "name": "python3"
  },
  "language_info": {
   "codemirror_mode": {
    "name": "ipython",
    "version": 3
   },
   "file_extension": ".py",
   "mimetype": "text/x-python",
   "name": "python",
   "nbconvert_exporter": "python",
   "pygments_lexer": "ipython3",
   "version": "3.8.8"
  }
 },
 "nbformat": 4,
 "nbformat_minor": 4
}
